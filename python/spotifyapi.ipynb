{
 "cells": [
  {
   "cell_type": "code",
   "execution_count": 1,
   "metadata": {},
   "outputs": [],
   "source": [
    "import spotipy\n",
    "from spotipy.oauth2 import SpotifyClientCredentials"
   ]
  },
  {
   "cell_type": "code",
   "execution_count": 7,
   "metadata": {},
   "outputs": [],
   "source": [
    "cid = 'bb7ba5ac3a5940759697df965eaa20f9'\n",
    "secret = '5feb0292d9b04eb8b97087dafee7c1fb'\n",
    "# client_credentials_manager = SpotifyClientCredentials(client_id=cid, client_secret=secret)\n",
    "# sp = spotipy.Spotify(client_credentials_manager\n",
    "# =\n",
    "# client_credentials_manager)"
   ]
  },
  {
   "cell_type": "code",
   "execution_count": 12,
   "metadata": {},
   "outputs": [
    {
     "name": "stdout",
     "output_type": "stream",
     "text": [
      "Album Name: Love Songs\n",
      "Artist: Elton John\n",
      "Release Date: 1995-11-06\n",
      "Popularity: 55\n",
      "Image URL: https://i.scdn.co/image/ab67616d0000b273285a5c29d3b2d05895781820\n",
      "Spotify URL: https://open.spotify.com/album/1bnoqPJyaxMCtYuSprcBTD\n"
     ]
    }
   ],
   "source": [
    "auth_manager = SpotifyClientCredentials(client_id=cid, client_secret=secret)\n",
    "sp = spotipy.Spotify(auth_manager=auth_manager)"
   ]
  },
  {
   "cell_type": "code",
   "execution_count": 15,
   "metadata": {},
   "outputs": [],
   "source": [
    "def getSpotifyAlbumInfo(uri):\n",
    "    album_uri = 'spotify:album:' + uri\n",
    "\n",
    "    # Get album details using the URI\n",
    "    album_details = sp.album(album_uri)\n",
    "    \n",
    "    album_image = album_details['images'][0]['url'] if album_details['images'] else 'No image available'\n",
    "    album_url = album_details['external_urls']['spotify']\n",
    "    album_popularity = album_details['popularity']\n",
    "\n",
    "    return [album_image, album_url, album_popularity]"
   ]
  },
  {
   "cell_type": "code",
   "execution_count": 17,
   "metadata": {},
   "outputs": [
    {
     "data": {
      "text/plain": [
       "['https://i.scdn.co/image/ab67616d0000b27328b8b9b46428896e6491e97a',\n",
       " 'https://open.spotify.com/album/3PRoXYsngSwjEQWR5PsHWR',\n",
       " 73]"
      ]
     },
     "execution_count": 17,
     "metadata": {},
     "output_type": "execute_result"
    }
   ],
   "source": [
    "getSpotifyAlbumInfo('3PRoXYsngSwjEQWR5PsHWR')"
   ]
  }
 ],
 "metadata": {
  "kernelspec": {
   "display_name": "Python 3",
   "language": "python",
   "name": "python3"
  },
  "language_info": {
   "codemirror_mode": {
    "name": "ipython",
    "version": 3
   },
   "file_extension": ".py",
   "mimetype": "text/x-python",
   "name": "python",
   "nbconvert_exporter": "python",
   "pygments_lexer": "ipython3",
   "version": "3.9.5"
  }
 },
 "nbformat": 4,
 "nbformat_minor": 2
}
